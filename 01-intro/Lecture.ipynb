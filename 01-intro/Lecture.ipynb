{
 "cells": [
  {
   "attachments": {},
   "cell_type": "markdown",
   "metadata": {},
   "source": [
    "# MLOps Maturity Model"
   ]
  },
  {
   "attachments": {},
   "cell_type": "markdown",
   "metadata": {},
   "source": [
    "## Level 0: No MLOps Automation\n",
    "- No Automation\n",
    "- All Code are in Jupyter Notebooks\n",
    "- Use cases: POC Models"
   ]
  },
  {
   "attachments": {},
   "cell_type": "markdown",
   "metadata": {},
   "source": [
    "## Level 1: DevOps, No MLOps\n",
    "\n",
    "- Releases are Automated\n",
    "- Systems are not generally ML Aware\n",
    "- Unit & Integartion Tests\n",
    "- CI/CD\n",
    "- OPs Metrics\n",
    "- No *Experiment Tracking*\n",
    "- No *Reproducibility*\n",
    "- DS Separated from Engineers\n",
    "- Use cases: POC ➡️ Production"
   ]
  },
  {
   "attachments": {},
   "cell_type": "markdown",
   "metadata": {},
   "source": [
    "## Level 2: Automated Training\n",
    "- Training Pipeline\n",
    "- Experiment Tracking\n",
    "- Model Registry (You are aware which models are in prod)\n",
    "- Low friction deployment ➡️ Multiple Models in Production\n",
    "- DS Works with Engineers"
   ]
  },
  {
   "attachments": {},
   "cell_type": "markdown",
   "metadata": {},
   "source": [
    "## Level 3: Automated Deployment\n",
    "- Easy to deploy model (almost no human interaction)\n",
    "- Data Prep ➡️ Train Model ➡️ Deploy Model\n",
    "- A/B Testing (Should be able to deploy which model is better)\n",
    "- Model Monitoring "
   ]
  },
  {
   "attachments": {},
   "cell_type": "markdown",
   "metadata": {},
   "source": [
    "## Level 4: Full ML Ops Automation\n"
   ]
  },
  {
   "attachments": {},
   "cell_type": "markdown",
   "metadata": {},
   "source": [
    "** add picture ** "
   ]
  },
  {
   "attachments": {},
   "cell_type": "markdown",
   "metadata": {},
   "source": [
    "Not All models need to be level 4; Proof of concepts should be Level 0 and as deployment and demand increases, only then it should be go up in level."
   ]
  }
 ],
 "metadata": {
  "language_info": {
   "name": "python"
  },
  "orig_nbformat": 4
 },
 "nbformat": 4,
 "nbformat_minor": 2
}
