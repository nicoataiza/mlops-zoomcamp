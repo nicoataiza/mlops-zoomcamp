{
 "cells": [
  {
   "attachments": {},
   "cell_type": "markdown",
   "metadata": {},
   "source": [
    "# Definition of Terms\n",
    "- ML experiment: the process of building an ML model\n",
    "- Experiment run: each trial in an ML experiment (the whole process of building and fine-tuning models)\n",
    "- Run artificat: any file that is associated with an ML run\n",
    "- Experiment metadata"
   ]
  },
  {
   "attachments": {},
   "cell_type": "markdown",
   "metadata": {},
   "source": [
    "# What's experiment tracking: \n"
   ]
  },
  {
   "attachments": {},
   "cell_type": "markdown",
   "metadata": {},
   "source": [
    "Experiment tracking is the process of keeping track of all the **relevant info** from an **ML experiment**\n",
    "- information entity isn't necessarily the same for all:\n",
    "    - source code\n",
    "    - accuracy metrics\n",
    "    - etc. of other artifacts\n",
    "    "
   ]
  },
  {
   "attachments": {},
   "cell_type": "markdown",
   "metadata": {},
   "source": [
    "## Why is it so important to track? (ROO)\n",
    "- Reproducibility\n",
    "- Organization\n",
    "- Optimization \n",
    "\n",
    "## Tracking experiments in spreadsheets\n",
    "- Why is it not enough?\n",
    "    - Error prone\n",
    "    - No standard format\n",
    "    - Visibility & collaboration\n",
    "\n",
    "## The Solution: ML Flow\n",
    "- An open source platform for the machine learning lifecycle\n",
    "- https://mlflow.org\n",
    "- Contains four main modules:\n",
    "    - Tracking\n",
    "    - Models\n",
    "    - Model Registry\n",
    "    - Projects (out of scope for this part of the course)\n",
    "\n",
    "### Tracking experiment with MLFlow\n",
    "- Allows you to roganize your experiment into runs, and to keep track of:\n",
    "    - Parameters (includes hyperparamaters, or any parameter that can influence metric such as pre-processing)\n",
    "    - Metrics (Accuracy, F1, or any important metrics from your training or validation dataset)\n",
    "    - Metadata (e.g. type of algorithm, developer name, etc.)\n",
    "    - Artifacts (anything that can serve as documentation such as the dataset, the visualization, etc.)\n",
    "    - Models (Logging your model as part of your experiment)\n",
    "- MLFlow automatically logs extra information about the run:\n",
    "    - Source code\n",
    "    - Version of the code (git commit)\n",
    "    - Start and End time\n",
    "    - Author"
   ]
  },
  {
   "attachments": {},
   "cell_type": "markdown",
   "metadata": {},
   "source": []
  }
 ],
 "metadata": {
  "language_info": {
   "name": "python"
  },
  "orig_nbformat": 4
 },
 "nbformat": 4,
 "nbformat_minor": 2
}
